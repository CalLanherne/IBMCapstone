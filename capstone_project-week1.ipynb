{
 "cells": [
  {
   "cell_type": "markdown",
   "metadata": {},
   "source": [
    "# Prediction of Road Traffic Collision Severity"
   ]
  },
  {
   "cell_type": "markdown",
   "metadata": {},
   "source": [
    "## Introduction"
   ]
  },
  {
   "cell_type": "markdown",
   "metadata": {},
   "source": [
    "Road traffic collisions pose a significant safety risk to both drivers and pedestrians. In 2019, the UK saw 1748 deaths and 25,975 serious injuries from road traffic accidents [(source)](https://www.gov.uk/government/statistics/reported-road-casualties-great-britain-provisional-results-2019). Whilst a downward trend has been identified, it is nontheless important to be able to identify predictors of road traffic accidents, for both number of accidents and severity. This is useful for allocation of resources (such as emergency services) - if there are conditions that imply a greater incidence of sever accidents, it may be prudent to increase the number of paramedics on call, for example. \n",
    "\n",
    "It is also useful to identify these predictors in order to further reduce the number of severe accidents. Identifying that a particular signage or junction reduces risk allows for local governments to make progressive changes to the road network in order to improve overall safety in the future."
   ]
  },
  {
   "cell_type": "markdown",
   "metadata": {},
   "source": [
    "## Data"
   ]
  },
  {
   "cell_type": "markdown",
   "metadata": {},
   "source": [
    "The data have been sourced from https://www.kaggle.com/akshay4/road-accidents-incidence/. It is an aggregation of year-on-year data published by the United Kingdom Department of Transport. \n",
    "\n",
    "The CSV file contains the following fields:\n",
    "\n",
    "|Field Name|Description|\n",
    "|----------|-----------|\n",
    "|Accident_Index|Government ID for incident|\n",
    "|1st_Road_Class|Classification of road based on [UK numbering scheme](https://en.wikipedia.org/wiki/Great_Britain_road_numbering_scheme)|\n",
    "|1st_Road_Number|Unique road identifier|\n",
    "|2nd_Road_Class|Classification of road based on [UK numbering scheme](https://en.wikipedia.org/wiki/Great_Britain_road_numbering_scheme)|\n",
    "|2nd_Road_Number|Unique road identifier|\n",
    "|Accident_Severity|Slight, Serious, Fatal|\n",
    "|Carriageway_Hazards|Potential hazards such as objects in road, animals in road etc.|\n",
    "|Date|Date of incident|\n",
    "|Day_of_Week|Day of incident (Mon, Tues, Weds...)|\n",
    "|Did_Police_Officer_Attend_Scene_of_Accident|Attendance of police|\n",
    "|Junction_Control|If at junction, what control in place? e.g. traffic light, stop sign etc.|\n",
    "|Junction_Detail|Additional information about the junction e.g. private drive, staggered etc.|\n",
    "|Latitude| Geographic coordinate that specifies the north–south position|\n",
    "|Light_Conditions|Light condition at incident e.g. Light, Dark with no lighting, Dark with street lighting etc.|\n",
    "|Local_Authority_(District)| Geographic district in which incident occured|\n",
    "|Local_Authority_(Highway)| Authority responsible for highway|\n",
    "|Location_Easting_OSGR| Ordnance Survey Grid Reference |\n",
    "|Location_Northing_OSGR| Ordnance Survey Grid Reference| \n",
    "|Longitude| Geographic coordinate that specifies the east-west position|\n",
    "|LSOA_of_Accident_Location| Lower Super Output Area (ONS statistic reporting area)|\n",
    "|Number_of_Casualties| How many casualties|\n",
    "|Number_of_Vehicles| How many vehicles|\n",
    "|Pedestrian_Crossing-Human_Control| Human controled crossing ('lollipop' person or traffic officer)|\n",
    "|Pedestrian_Crossing-Physical_Facilities| Pedestrian crossing e.g. zebra crossing, pelican crossing etc.|\n",
    "|Police_Force|Police force responsible for area of incident|\n",
    "|Road_Surface_Conditions|Dry, wet, snow etc.|\n",
    "|Road_Type|Single, dual, roundabout etc.|\n",
    "|Special_Conditions_at_Site|Roadworks, oil, mud etc.|\n",
    "|Speed_limit|Speed limit in force at incident location|\n",
    "|Time|Time of incident|\n",
    "|Urban_or_Rural_Area|Incident location type (urban or rural)|\n",
    "|Weather_Conditions|Weather at incident (rain, fog etc)\n",
    "|Year| Year of incident|\n",
    "|InScotland|Was the incident in Scotland?"
   ]
  },
  {
   "cell_type": "markdown",
   "metadata": {},
   "source": [
    "## Proposed Methodology"
   ]
  },
  {
   "cell_type": "markdown",
   "metadata": {},
   "source": [
    "As there are many predictors, the first step will be cleaning the data and selecting the predictors. It will also be important to identify numeric data and categorical data for the purposes of one-hot encoding.\n",
    "\n",
    "One issue that is likely to occur is the undersampling of the target categories of interest. We are trying to predict 'Serious' or 'Fatal' accidents, but there are far fewer of these in the dataset which means any models built will have a bias towards predicting severities classified as 'Slight'. \n",
    "\n",
    "This could be addressed by downsamplng at random the 'Slight' accidents to have a similar number to the 'Serious' and 'Fatal' accidents. Alternatively there are methods such as the 'Synthetic Minority Over-sampling TEchnique' (SMOTE) which produces synthetic data based on the real data, in order to redress the imablanced data."
   ]
  }
 ],
 "metadata": {
  "kernelspec": {
   "display_name": "data-analysis",
   "language": "python",
   "name": "data-analysis"
  },
  "language_info": {
   "codemirror_mode": {
    "name": "ipython",
    "version": 3
   },
   "file_extension": ".py",
   "mimetype": "text/x-python",
   "name": "python",
   "nbconvert_exporter": "python",
   "pygments_lexer": "ipython3",
   "version": "3.7.8"
  }
 },
 "nbformat": 4,
 "nbformat_minor": 4
}
