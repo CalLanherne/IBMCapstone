{
 "cells": [
  {
   "cell_type": "markdown",
   "metadata": {},
   "source": [
    "# Prediction of Road Traffic Collision Severity"
   ]
  },
  {
   "cell_type": "markdown",
   "metadata": {},
   "source": [
    "## Introduction"
   ]
  },
  {
   "cell_type": "markdown",
   "metadata": {},
   "source": [
    "Road traffic collisions pose a significant safety risk to both drivers and pedestrians. In 2019, the UK saw 1748 deaths and 25,975 serious injuries from road traffic accidents [(source)](https://www.gov.uk/government/statistics/reported-road-casualties-great-britain-provisional-results-2019). Whilst a downward trend has been identified, it is nontheless important to be able to identify predictors of road traffic accidents, for both number of accidents and severity. This is useful for allocation of resources (such as emergency services) - if there are conditions that imply a greater incidence of sever accidents, it may be prudent to increase the number of paramedics on call, for example. \n",
    "\n",
    "It is also useful to identify these predictors in order to further reduce the number of severe accidents. Identifying that a particular signage or junction reduces risk allows for local governments to make progressive changes to the road network in order to improve overall safety in the future."
   ]
  },
  {
   "cell_type": "markdown",
   "metadata": {},
   "source": [
    "## Data"
   ]
  },
  {
   "cell_type": "markdown",
   "metadata": {},
   "source": [
    "The data have been sourced from https://www.kaggle.com/akshay4/road-accidents-incidence/. It is an aggregation of year-on-year data published by the United Kingdom Department of Transport. \n",
    "\n",
    "The CSV file contains the following fields:\n",
    "\n",
    "|Field Name|Description|\n",
    "|----------|-----------|\n",
    "|Accident_Index|Government ID for incident|\n",
    "|1st_Road_Class|Classification of road based on [UK numbering scheme](https://en.wikipedia.org/wiki/Great_Britain_road_numbering_scheme)|\n",
    "|1st_Road_Number|Unique road identifier|\n",
    "|2nd_Road_Class|Classification of road based on [UK numbering scheme](https://en.wikipedia.org/wiki/Great_Britain_road_numbering_scheme)|\n",
    "|2nd_Road_Number|Unique road identifier|\n",
    "|Accident_Severity|Slight, Serious, Fatal|\n",
    "|Carriageway_Hazards|Potential hazards such as objects in road, animals in road etc.|\n",
    "|Date|Date of incident|\n",
    "|Day_of_Week|Day of incident (Mon, Tues, Weds...)|\n",
    "|Did_Police_Officer_Attend_Scene_of_Accident|Attendance of police|\n",
    "|Junction_Control|If at junction, what control in place? e.g. traffic light, stop sign etc.|\n",
    "|Junction_Detail|Additional information about the junction e.g. private drive, staggered etc.|\n",
    "|Latitude| Geographic coordinate that specifies the north–south position|\n",
    "|Light_Conditions|Light condition at incident e.g. Light, Dark with no lighting, Dark with street lighting etc.|\n",
    "|Local_Authority_(District)| Geographic district in which incident occured|\n",
    "|Local_Authority_(Highway)| Authority responsible for highway|\n",
    "|Location_Easting_OSGR| Ordnance Survey Grid Reference |\n",
    "|Location_Northing_OSGR| Ordnance Survey Grid Reference| \n",
    "|Longitude| Geographic coordinate that specifies the east-west position|\n",
    "|LSOA_of_Accident_Location| Lower Super Output Area (ONS statistic reporting area)|\n",
    "|Number_of_Casualties| How many casualties|\n",
    "|Number_of_Vehicles| How many vehicles|\n",
    "|Pedestrian_Crossing-Human_Control| Human controled crossing ('lollipop' person or traffic officer)|\n",
    "|Pedestrian_Crossing-Physical_Facilities| Pedestrian crossing e.g. zebra crossing, pelican crossing etc.|\n",
    "|Police_Force|Police force responsible for area of incident|\n",
    "|Road_Surface_Conditions|Dry, wet, snow etc.|\n",
    "|Road_Type|Single, dual, roundabout etc.|\n",
    "|Special_Conditions_at_Site|Roadworks, oil, mud etc.|\n",
    "|Speed_limit|Speed limit in force at incident location|\n",
    "|Time|Time of incident|\n",
    "|Urban_or_Rural_Area|Incident location type (urban or rural)|\n",
    "|Weather_Conditions|Weather at incident (rain, fog etc)\n",
    "|Year| Year of incident|\n",
    "|InScotland|Was the incident in Scotland?"
   ]
  },
  {
   "cell_type": "markdown",
   "metadata": {},
   "source": [
    "## Proposed Methodology"
   ]
  },
  {
   "cell_type": "markdown",
   "metadata": {},
   "source": [
    "As there are many predictors, the first step will be cleaning the data and selecting the predictors. It will also be important to identify numeric data and categorical data for the purposes of one-hot encoding.\n",
    "\n",
    "One issue that is likely to occur is the undersampling of the target categories of interest. We are trying to predict 'Serious' or 'Fatal' accidents, but there are far fewer of these in the dataset which means any models built will have a bias towards predicting severities classified as 'Slight'. \n",
    "\n",
    "This could be addressed by downsamplng at random the 'Slight' accidents to have a similar number to the 'Serious' and 'Fatal' accidents. Alternatively there are methods such as the 'Synthetic Minority Over-sampling TEchnique' (SMOTE) which produces synthetic data based on the real data, in order to redress the imablanced data."
   ]
  },
  {
   "cell_type": "markdown",
   "metadata": {},
   "source": [
    "## Preprocessing"
   ]
  },
  {
   "cell_type": "code",
   "execution_count": 73,
   "metadata": {
    "scrolled": true
   },
   "outputs": [
    {
     "data": {
      "text/plain": [
       "Fine no high winds              1359116\n",
       "Unknown                           31576\n",
       "Fine + high winds                 15368\n",
       "Other                              8094\n",
       "Raining no high winds              1842\n",
       "Fog or mist                        1688\n",
       "Raining + high winds                219\n",
       "Snowing no high winds               158\n",
       "Data missing or out of range        124\n",
       "Snowing + high winds                 30\n",
       "Name: Weather_Conditions, dtype: int64"
      ]
     },
     "execution_count": 73,
     "metadata": {},
     "output_type": "execute_result"
    }
   ],
   "source": [
    "traffic_data[traffic_data['Road_Surface_Conditions']=='Dry']['Weather_Conditions'].value_counts()"
   ]
  },
  {
   "cell_type": "markdown",
   "metadata": {},
   "source": [
    "|Candidate Predictor|Variable|Mapping|\n",
    "|-------------------|--------|-------|\n",
    "|Weather conditions |1       |Fine no high winds|\n",
    "|                   |2       |Raining no high winds|\n",
    "|                   |3       |Snowing no high winds|\n",
    "|                   |4       |Fine + high winds|\n",
    "|                   |5       |Raining + high winds|\n",
    "|                   |6       |Snowing + high winds|\n",
    "|                   |7       |Fog or mist|\n",
    "|                   |8       |Other|\n",
    "|                   |9       |Unknown|\n",
    "\n",
    "|Candidate Predictor|Variable|Mapping|\n",
    "|-------------------|--------|-------|\n",
    "|Light conditions   |1       |Daylight|\n",
    "||4       |Darkness - lights lit|\n",
    "||5       |Darkness - lights unlit|\n",
    "||6       |Darkness - no lighting|\n",
    "||7       |Darkness - lighting unknown|"
   ]
  },
  {
   "cell_type": "code",
   "execution_count": 1,
   "metadata": {},
   "outputs": [],
   "source": [
    "import pandas as pd\n",
    "import numpy as np\n",
    "import seaborn as sns\n",
    "import matplotlib.pyplot as plt\n",
    "from cartopy.io import shapereader\n",
    "import geopandas as gpd"
   ]
  },
  {
   "cell_type": "code",
   "execution_count": 3,
   "metadata": {},
   "outputs": [
    {
     "name": "stdout",
     "output_type": "stream",
     "text": [
      "Hello Capstone Project Course!\n"
     ]
    }
   ],
   "source": [
    "print (\"Hello Capstone Project Course!\")"
   ]
  },
  {
   "cell_type": "code",
   "execution_count": 14,
   "metadata": {
    "scrolled": true
   },
   "outputs": [
    {
     "ename": "FileNotFoundError",
     "evalue": "[Errno 2] No such file or directory: 'Carriageway_Hazards.csv'",
     "output_type": "error",
     "traceback": [
      "\u001b[1;31m---------------------------------------------------------------------------\u001b[0m",
      "\u001b[1;31mFileNotFoundError\u001b[0m                         Traceback (most recent call last)",
      "\u001b[1;32m<ipython-input-14-746894cf98ef>\u001b[0m in \u001b[0;36m<module>\u001b[1;34m\u001b[0m\n\u001b[1;32m----> 1\u001b[1;33m \u001b[0mtraffic_data\u001b[0m \u001b[1;33m=\u001b[0m \u001b[0mpd\u001b[0m\u001b[1;33m.\u001b[0m\u001b[0mread_csv\u001b[0m\u001b[1;33m(\u001b[0m\u001b[1;34m'Carriageway_Hazards.csv'\u001b[0m\u001b[1;33m)\u001b[0m\u001b[1;33m\u001b[0m\u001b[1;33m\u001b[0m\u001b[0m\n\u001b[0m",
      "\u001b[1;32mC:\\ProgramData\\Miniconda3\\envs\\data-analysis\\lib\\site-packages\\pandas\\io\\parsers.py\u001b[0m in \u001b[0;36mread_csv\u001b[1;34m(filepath_or_buffer, sep, delimiter, header, names, index_col, usecols, squeeze, prefix, mangle_dupe_cols, dtype, engine, converters, true_values, false_values, skipinitialspace, skiprows, skipfooter, nrows, na_values, keep_default_na, na_filter, verbose, skip_blank_lines, parse_dates, infer_datetime_format, keep_date_col, date_parser, dayfirst, cache_dates, iterator, chunksize, compression, thousands, decimal, lineterminator, quotechar, quoting, doublequote, escapechar, comment, encoding, dialect, error_bad_lines, warn_bad_lines, delim_whitespace, low_memory, memory_map, float_precision)\u001b[0m\n\u001b[0;32m    684\u001b[0m     )\n\u001b[0;32m    685\u001b[0m \u001b[1;33m\u001b[0m\u001b[0m\n\u001b[1;32m--> 686\u001b[1;33m     \u001b[1;32mreturn\u001b[0m \u001b[0m_read\u001b[0m\u001b[1;33m(\u001b[0m\u001b[0mfilepath_or_buffer\u001b[0m\u001b[1;33m,\u001b[0m \u001b[0mkwds\u001b[0m\u001b[1;33m)\u001b[0m\u001b[1;33m\u001b[0m\u001b[1;33m\u001b[0m\u001b[0m\n\u001b[0m\u001b[0;32m    687\u001b[0m \u001b[1;33m\u001b[0m\u001b[0m\n\u001b[0;32m    688\u001b[0m \u001b[1;33m\u001b[0m\u001b[0m\n",
      "\u001b[1;32mC:\\ProgramData\\Miniconda3\\envs\\data-analysis\\lib\\site-packages\\pandas\\io\\parsers.py\u001b[0m in \u001b[0;36m_read\u001b[1;34m(filepath_or_buffer, kwds)\u001b[0m\n\u001b[0;32m    450\u001b[0m \u001b[1;33m\u001b[0m\u001b[0m\n\u001b[0;32m    451\u001b[0m     \u001b[1;31m# Create the parser.\u001b[0m\u001b[1;33m\u001b[0m\u001b[1;33m\u001b[0m\u001b[1;33m\u001b[0m\u001b[0m\n\u001b[1;32m--> 452\u001b[1;33m     \u001b[0mparser\u001b[0m \u001b[1;33m=\u001b[0m \u001b[0mTextFileReader\u001b[0m\u001b[1;33m(\u001b[0m\u001b[0mfp_or_buf\u001b[0m\u001b[1;33m,\u001b[0m \u001b[1;33m**\u001b[0m\u001b[0mkwds\u001b[0m\u001b[1;33m)\u001b[0m\u001b[1;33m\u001b[0m\u001b[1;33m\u001b[0m\u001b[0m\n\u001b[0m\u001b[0;32m    453\u001b[0m \u001b[1;33m\u001b[0m\u001b[0m\n\u001b[0;32m    454\u001b[0m     \u001b[1;32mif\u001b[0m \u001b[0mchunksize\u001b[0m \u001b[1;32mor\u001b[0m \u001b[0miterator\u001b[0m\u001b[1;33m:\u001b[0m\u001b[1;33m\u001b[0m\u001b[1;33m\u001b[0m\u001b[0m\n",
      "\u001b[1;32mC:\\ProgramData\\Miniconda3\\envs\\data-analysis\\lib\\site-packages\\pandas\\io\\parsers.py\u001b[0m in \u001b[0;36m__init__\u001b[1;34m(self, f, engine, **kwds)\u001b[0m\n\u001b[0;32m    934\u001b[0m             \u001b[0mself\u001b[0m\u001b[1;33m.\u001b[0m\u001b[0moptions\u001b[0m\u001b[1;33m[\u001b[0m\u001b[1;34m\"has_index_names\"\u001b[0m\u001b[1;33m]\u001b[0m \u001b[1;33m=\u001b[0m \u001b[0mkwds\u001b[0m\u001b[1;33m[\u001b[0m\u001b[1;34m\"has_index_names\"\u001b[0m\u001b[1;33m]\u001b[0m\u001b[1;33m\u001b[0m\u001b[1;33m\u001b[0m\u001b[0m\n\u001b[0;32m    935\u001b[0m \u001b[1;33m\u001b[0m\u001b[0m\n\u001b[1;32m--> 936\u001b[1;33m         \u001b[0mself\u001b[0m\u001b[1;33m.\u001b[0m\u001b[0m_make_engine\u001b[0m\u001b[1;33m(\u001b[0m\u001b[0mself\u001b[0m\u001b[1;33m.\u001b[0m\u001b[0mengine\u001b[0m\u001b[1;33m)\u001b[0m\u001b[1;33m\u001b[0m\u001b[1;33m\u001b[0m\u001b[0m\n\u001b[0m\u001b[0;32m    937\u001b[0m \u001b[1;33m\u001b[0m\u001b[0m\n\u001b[0;32m    938\u001b[0m     \u001b[1;32mdef\u001b[0m \u001b[0mclose\u001b[0m\u001b[1;33m(\u001b[0m\u001b[0mself\u001b[0m\u001b[1;33m)\u001b[0m\u001b[1;33m:\u001b[0m\u001b[1;33m\u001b[0m\u001b[1;33m\u001b[0m\u001b[0m\n",
      "\u001b[1;32mC:\\ProgramData\\Miniconda3\\envs\\data-analysis\\lib\\site-packages\\pandas\\io\\parsers.py\u001b[0m in \u001b[0;36m_make_engine\u001b[1;34m(self, engine)\u001b[0m\n\u001b[0;32m   1166\u001b[0m     \u001b[1;32mdef\u001b[0m \u001b[0m_make_engine\u001b[0m\u001b[1;33m(\u001b[0m\u001b[0mself\u001b[0m\u001b[1;33m,\u001b[0m \u001b[0mengine\u001b[0m\u001b[1;33m=\u001b[0m\u001b[1;34m\"c\"\u001b[0m\u001b[1;33m)\u001b[0m\u001b[1;33m:\u001b[0m\u001b[1;33m\u001b[0m\u001b[1;33m\u001b[0m\u001b[0m\n\u001b[0;32m   1167\u001b[0m         \u001b[1;32mif\u001b[0m \u001b[0mengine\u001b[0m \u001b[1;33m==\u001b[0m \u001b[1;34m\"c\"\u001b[0m\u001b[1;33m:\u001b[0m\u001b[1;33m\u001b[0m\u001b[1;33m\u001b[0m\u001b[0m\n\u001b[1;32m-> 1168\u001b[1;33m             \u001b[0mself\u001b[0m\u001b[1;33m.\u001b[0m\u001b[0m_engine\u001b[0m \u001b[1;33m=\u001b[0m \u001b[0mCParserWrapper\u001b[0m\u001b[1;33m(\u001b[0m\u001b[0mself\u001b[0m\u001b[1;33m.\u001b[0m\u001b[0mf\u001b[0m\u001b[1;33m,\u001b[0m \u001b[1;33m**\u001b[0m\u001b[0mself\u001b[0m\u001b[1;33m.\u001b[0m\u001b[0moptions\u001b[0m\u001b[1;33m)\u001b[0m\u001b[1;33m\u001b[0m\u001b[1;33m\u001b[0m\u001b[0m\n\u001b[0m\u001b[0;32m   1169\u001b[0m         \u001b[1;32melse\u001b[0m\u001b[1;33m:\u001b[0m\u001b[1;33m\u001b[0m\u001b[1;33m\u001b[0m\u001b[0m\n\u001b[0;32m   1170\u001b[0m             \u001b[1;32mif\u001b[0m \u001b[0mengine\u001b[0m \u001b[1;33m==\u001b[0m \u001b[1;34m\"python\"\u001b[0m\u001b[1;33m:\u001b[0m\u001b[1;33m\u001b[0m\u001b[1;33m\u001b[0m\u001b[0m\n",
      "\u001b[1;32mC:\\ProgramData\\Miniconda3\\envs\\data-analysis\\lib\\site-packages\\pandas\\io\\parsers.py\u001b[0m in \u001b[0;36m__init__\u001b[1;34m(self, src, **kwds)\u001b[0m\n\u001b[0;32m   1996\u001b[0m         \u001b[0mkwds\u001b[0m\u001b[1;33m[\u001b[0m\u001b[1;34m\"usecols\"\u001b[0m\u001b[1;33m]\u001b[0m \u001b[1;33m=\u001b[0m \u001b[0mself\u001b[0m\u001b[1;33m.\u001b[0m\u001b[0musecols\u001b[0m\u001b[1;33m\u001b[0m\u001b[1;33m\u001b[0m\u001b[0m\n\u001b[0;32m   1997\u001b[0m \u001b[1;33m\u001b[0m\u001b[0m\n\u001b[1;32m-> 1998\u001b[1;33m         \u001b[0mself\u001b[0m\u001b[1;33m.\u001b[0m\u001b[0m_reader\u001b[0m \u001b[1;33m=\u001b[0m \u001b[0mparsers\u001b[0m\u001b[1;33m.\u001b[0m\u001b[0mTextReader\u001b[0m\u001b[1;33m(\u001b[0m\u001b[0msrc\u001b[0m\u001b[1;33m,\u001b[0m \u001b[1;33m**\u001b[0m\u001b[0mkwds\u001b[0m\u001b[1;33m)\u001b[0m\u001b[1;33m\u001b[0m\u001b[1;33m\u001b[0m\u001b[0m\n\u001b[0m\u001b[0;32m   1999\u001b[0m         \u001b[0mself\u001b[0m\u001b[1;33m.\u001b[0m\u001b[0munnamed_cols\u001b[0m \u001b[1;33m=\u001b[0m \u001b[0mself\u001b[0m\u001b[1;33m.\u001b[0m\u001b[0m_reader\u001b[0m\u001b[1;33m.\u001b[0m\u001b[0munnamed_cols\u001b[0m\u001b[1;33m\u001b[0m\u001b[1;33m\u001b[0m\u001b[0m\n\u001b[0;32m   2000\u001b[0m \u001b[1;33m\u001b[0m\u001b[0m\n",
      "\u001b[1;32mpandas\\_libs\\parsers.pyx\u001b[0m in \u001b[0;36mpandas._libs.parsers.TextReader.__cinit__\u001b[1;34m()\u001b[0m\n",
      "\u001b[1;32mpandas\\_libs\\parsers.pyx\u001b[0m in \u001b[0;36mpandas._libs.parsers.TextReader._setup_parser_source\u001b[1;34m()\u001b[0m\n",
      "\u001b[1;31mFileNotFoundError\u001b[0m: [Errno 2] No such file or directory: 'Carriageway_Hazards.csv'"
     ]
    }
   ],
   "source": [
    "traffic_data = pd.read_csv('Accident_Information.csv')"
   ]
  },
  {
   "cell_type": "code",
   "execution_count": 3,
   "metadata": {
    "scrolled": true
   },
   "outputs": [],
   "source": [
    "traffic_data.columns = traffic_data.columns.str.lower()\n",
    "traffic_data = traffic_data.dropna()\n",
    "traffic_data = traffic_data[traffic_data['weather_conditions']!='Data missing or out of range']"
   ]
  },
  {
   "cell_type": "code",
   "execution_count": 68,
   "metadata": {},
   "outputs": [
    {
     "data": {
      "text/plain": [
       "No     1913224\n",
       "Yes     133979\n",
       "Name: InScotland, dtype: int64"
      ]
     },
     "execution_count": 68,
     "metadata": {},
     "output_type": "execute_result"
    }
   ],
   "source": [
    "traffic_data['InScotland'].value_counts()"
   ]
  },
  {
   "cell_type": "code",
   "execution_count": 45,
   "metadata": {
    "scrolled": true
   },
   "outputs": [
    {
     "data": {
      "text/plain": [
       "array(['Argyll & Bute', 'Buckinghamshire', 'Cambridgeshire', 'Cumbria',\n",
       "       'Derbyshire', 'Devon', 'Dorset', 'Dumfries & Galloway',\n",
       "       'East Sussex', 'Essex', 'Gloucestershire', 'Hampshire',\n",
       "       'Hertfordshire', 'Isles of Scilly', 'Kent', 'Lancashire',\n",
       "       'Leicestershire', 'Lincolnshire',\n",
       "       'Na h-Eileanan an Iar (Western Isles)', 'Norfolk',\n",
       "       'North Yorkshire', 'Northamptonshire', 'Nottinghamshire',\n",
       "       'Oxfordshire', 'Somerset', 'Staffordshire', 'Suffolk', 'Surrey',\n",
       "       'Warwickshire', 'West Sussex', 'Worcestershire'], dtype=object)"
      ]
     },
     "execution_count": 45,
     "metadata": {},
     "output_type": "execute_result"
    }
   ],
   "source": [
    "np.setdiff1d(traffic_data['Local_Authority_(Highway)'],traffic_data['Local_Authority_(District)'])"
   ]
  },
  {
   "cell_type": "code",
   "execution_count": 46,
   "metadata": {
    "scrolled": true
   },
   "outputs": [
    {
     "data": {
      "text/plain": [
       "array(['Adur', 'Allerdale', 'Alnwick', 'Amber Valley', 'Argyll and Bute',\n",
       "       'Arun', 'Ashfield', 'Ashford', 'Aylesbury Vale', 'Babergh',\n",
       "       'Barrow-in-Furness', 'Basildon', 'Basingstoke and Deane',\n",
       "       'Bassetlaw', 'Berwick-upon-Tweed', 'Blaby', 'Blyth Valley',\n",
       "       'Bolsover', 'Boston', 'Braintree', 'Breckland', 'Brentwood',\n",
       "       'Bridgnorth', 'Broadland', 'Bromsgrove', 'Broxbourne', 'Broxtowe',\n",
       "       'Burnley', 'Cambridge', 'Cannock Chase', 'Canterbury', 'Caradon',\n",
       "       'Carlisle', 'Carrick', 'Castle Morpeth', 'Castle Point',\n",
       "       'Charnwood', 'Chelmsford', 'Cheltenham', 'Cherwell', 'Chester',\n",
       "       'Chester-le-Street', 'Chesterfield', 'Chichester', 'Chiltern',\n",
       "       'Chorley', 'Christchurch', 'Colchester', 'Congleton', 'Copeland',\n",
       "       'Corby', 'Cotswold', 'Craven', 'Crawley', 'Crewe and Nantwich',\n",
       "       'Dacorum', 'Dartford', 'Daventry', 'Derbyshire Dales',\n",
       "       'Derwentside', 'Dover', 'Dumfries and Galloway', 'Durham',\n",
       "       'Easington', 'East Cambridgeshire', 'East Devon', 'East Dorset',\n",
       "       'East Hampshire', 'East Hertfordshire', 'East Lindsey',\n",
       "       'East Northamptonshire', 'East Staffordshire', 'Eastbourne',\n",
       "       'Eastleigh', 'Eden', 'Ellesmere Port and Neston', 'Elmbridge',\n",
       "       'Epping Forest', 'Epsom and Ewell', 'Erewash', 'Exeter', 'Fareham',\n",
       "       'Fenland', 'Forest Heath', 'Forest of Dean', 'Fylde', 'Gedling',\n",
       "       'Gloucester', 'Gosport', 'Gravesham', 'Great Yarmouth',\n",
       "       'Guildford', 'Hambleton', 'Harborough', 'Harlow', 'Harrogate',\n",
       "       'Hart', 'Hastings', 'Havant', 'Hertsmere', 'High Peak',\n",
       "       'Hinckley and Bosworth', 'Horsham', 'Huntingdonshire', 'Hyndburn',\n",
       "       'Ipswich', 'Kennet', 'Kerrier', 'Kettering',\n",
       "       \"King's Lynn and West Norfolk\", 'Lancaster', 'Lewes', 'Lichfield',\n",
       "       'Lincoln', 'Macclesfield', 'Maidstone', 'Maldon', 'Malvern Hills',\n",
       "       'Mansfield', 'Melton', 'Mendip', 'Mid Bedfordshire', 'Mid Devon',\n",
       "       'Mid Suffolk', 'Mid Sussex', 'Mole Valley', 'New Forest',\n",
       "       'Newark and Sherwood', 'Newcastle-under-Lyme', 'North Cornwall',\n",
       "       'North Devon', 'North Dorset', 'North East Derbyshire',\n",
       "       'North Hertfordshire', 'North Kesteven', 'North Norfolk',\n",
       "       'North Shropshire', 'North Warwickshire',\n",
       "       'North West Leicestershire', 'North Wiltshire', 'Northampton',\n",
       "       'Norwich', 'Nuneaton and Bedworth', 'Oadby and Wigston',\n",
       "       'Oswestry', 'Oxford', 'Pendle', 'Penwith', 'Preston', 'Purbeck',\n",
       "       'Redditch', 'Reigate and Banstead', 'Restormel', 'Ribble Valley',\n",
       "       'Richmondshire', 'Rochford', 'Rossendale', 'Rother', 'Rugby',\n",
       "       'Runnymede', 'Rushcliffe', 'Rushmoor', 'Ryedale', 'Salisbury',\n",
       "       'Scarborough', 'Sedgefield', 'Sedgemoor', 'Selby', 'Sevenoaks',\n",
       "       'Shepway', 'Shrewsbury and Atcham', 'South Bedfordshire',\n",
       "       'South Bucks', 'South Cambridgeshire', 'South Derbyshire',\n",
       "       'South Hams', 'South Holland', 'South Kesteven', 'South Lakeland',\n",
       "       'South Norfolk', 'South Northamptonshire', 'South Oxfordshire',\n",
       "       'South Ribble', 'South Shropshire', 'South Somerset',\n",
       "       'South Staffordshire', 'Spelthorne', 'St. Albans',\n",
       "       'St. Edmundsbury', 'Stafford', 'Staffordshire Moorlands',\n",
       "       'Stevenage', 'Stratford-upon-Avon', 'Stroud', 'Suffolk Coastal',\n",
       "       'Surrey Heath', 'Swale', 'Tamworth', 'Tandridge', 'Taunton Deane',\n",
       "       'Teesdale', 'Teignbridge', 'Tendring', 'Test Valley', 'Tewkesbury',\n",
       "       'Thanet', 'Three Rivers', 'Tonbridge and Malling', 'Torridge',\n",
       "       'Tunbridge Wells', 'Tynedale', 'Uttlesford', 'Vale Royal',\n",
       "       'Vale of White Horse', 'Wansbeck', 'Warwick', 'Watford', 'Waveney',\n",
       "       'Waverley', 'Wealden', 'Wear Valley', 'Wellingborough',\n",
       "       'Welwyn Hatfield', 'West Devon', 'West Dorset', 'West Lancashire',\n",
       "       'West Lindsey', 'West Oxfordshire', 'West Somerset',\n",
       "       'West Wiltshire', 'Western Isles', 'Weymouth and Portland',\n",
       "       'Winchester', 'Woking', 'Worcester', 'Worthing', 'Wychavon',\n",
       "       'Wycombe', 'Wyre', 'Wyre Forest'], dtype=object)"
      ]
     },
     "execution_count": 46,
     "metadata": {},
     "output_type": "execute_result"
    }
   ],
   "source": [
    "np.setdiff1d(traffic_data['Local_Authority_(District)'],traffic_data['Local_Authority_(Highway)'])"
   ]
  },
  {
   "cell_type": "code",
   "execution_count": 52,
   "metadata": {},
   "outputs": [
    {
     "data": {
      "text/plain": [
       "172668    2005-01-03\n",
       "172669    2005-01-10\n",
       "172670    2005-01-15\n",
       "172671    2005-01-31\n",
       "172672    2005-02-03\n",
       "             ...    \n",
       "883144    2009-03-19\n",
       "883145    2009-03-19\n",
       "883146    2009-03-20\n",
       "883147    2009-03-23\n",
       "883148    2009-03-26\n",
       "Name: Date, Length: 1155, dtype: object"
      ]
     },
     "execution_count": 52,
     "metadata": {},
     "output_type": "execute_result"
    }
   ],
   "source": [
    "traffic_data[traffic_data['Local_Authority_(District)']=='West Wiltshire']['Date']"
   ]
  },
  {
   "cell_type": "code",
   "execution_count": 4,
   "metadata": {},
   "outputs": [],
   "source": [
    "traffic_data['datetime'] = pd.to_datetime(traffic_data['date'] + ' ' + traffic_data['time'])"
   ]
  },
  {
   "cell_type": "code",
   "execution_count": 39,
   "metadata": {},
   "outputs": [],
   "source": [
    "traffic_data['hour'] = traffic_data['datetime'].dt.hour\n",
    "traffic_data['month'] = traffic_data['datetime'].dt.month\n",
    "traffic_data['year'] = traffic_data['datetime'].dt.year"
   ]
  },
  {
   "cell_type": "code",
   "execution_count": 189,
   "metadata": {},
   "outputs": [],
   "source": [
    "categorical_predictors = ['hour','month','1st_road_class','day_of_week','weather_conditions','speed_limit','urban_or_rural_area','road_type','light_conditions']\n",
    "target_label = ['accident_severity']"
   ]
  },
  {
   "cell_type": "code",
   "execution_count": 168,
   "metadata": {},
   "outputs": [],
   "source": [
    "for col in categorical_predictors + target:\n",
    "    traffic_data[col] = traffic_data[col].astype('category')\n"
   ]
  },
  {
   "cell_type": "code",
   "execution_count": 217,
   "metadata": {
    "scrolled": false
   },
   "outputs": [
    {
     "data": {
      "text/plain": [
       "(1129910, 10)"
      ]
     },
     "execution_count": 217,
     "metadata": {},
     "output_type": "execute_result"
    }
   ],
   "source": [
    "traffic_model = traffic_data[categorical_predictors+target_label].copy()\n",
    "traffic_model.shape"
   ]
  },
  {
   "cell_type": "code",
   "execution_count": 225,
   "metadata": {},
   "outputs": [
    {
     "data": {
      "text/plain": [
       "(1129910, 71)"
      ]
     },
     "execution_count": 225,
     "metadata": {},
     "output_type": "execute_result"
    }
   ],
   "source": [
    "dummies = pd.get_dummies(traffic_model[categorical_predictors],drop_first=True)\n",
    "traffic_model = dummies.join(traffic_model[target_label])\n",
    "traffic_model.shape"
   ]
  },
  {
   "cell_type": "code",
   "execution_count": 226,
   "metadata": {},
   "outputs": [],
   "source": [
    "features = traffic_model.drop(['accident_severity'],axis=1)\n",
    "target = traffic_model[['accident_severity']]"
   ]
  },
  {
   "cell_type": "code",
   "execution_count": 227,
   "metadata": {},
   "outputs": [],
   "source": [
    "from sklearn.model_selection import train_test_split\n",
    "\n",
    "X_train, X_test, y_train, y_test = train_test_split(features,target,test_size = 0.3)"
   ]
  },
  {
   "cell_type": "code",
   "execution_count": 224,
   "metadata": {},
   "outputs": [
    {
     "data": {
      "text/html": [
       "<div>\n",
       "<style scoped>\n",
       "    .dataframe tbody tr th:only-of-type {\n",
       "        vertical-align: middle;\n",
       "    }\n",
       "\n",
       "    .dataframe tbody tr th {\n",
       "        vertical-align: top;\n",
       "    }\n",
       "\n",
       "    .dataframe thead th {\n",
       "        text-align: right;\n",
       "    }\n",
       "</style>\n",
       "<table border=\"1\" class=\"dataframe\">\n",
       "  <thead>\n",
       "    <tr style=\"text-align: right;\">\n",
       "      <th></th>\n",
       "      <th>hour_1</th>\n",
       "      <th>hour_2</th>\n",
       "      <th>hour_3</th>\n",
       "      <th>hour_4</th>\n",
       "      <th>hour_5</th>\n",
       "      <th>hour_6</th>\n",
       "      <th>hour_7</th>\n",
       "      <th>hour_8</th>\n",
       "      <th>hour_9</th>\n",
       "      <th>hour_10</th>\n",
       "      <th>...</th>\n",
       "      <th>road_type_One way street</th>\n",
       "      <th>road_type_Roundabout</th>\n",
       "      <th>road_type_Single carriageway</th>\n",
       "      <th>road_type_Slip road</th>\n",
       "      <th>road_type_Unknown</th>\n",
       "      <th>light_conditions_Darkness - lights lit</th>\n",
       "      <th>light_conditions_Darkness - lights unlit</th>\n",
       "      <th>light_conditions_Darkness - no lighting</th>\n",
       "      <th>light_conditions_Daylight</th>\n",
       "      <th>accident_severity</th>\n",
       "    </tr>\n",
       "  </thead>\n",
       "  <tbody>\n",
       "    <tr>\n",
       "      <th>1</th>\n",
       "      <td>0</td>\n",
       "      <td>0</td>\n",
       "      <td>0</td>\n",
       "      <td>0</td>\n",
       "      <td>0</td>\n",
       "      <td>0</td>\n",
       "      <td>0</td>\n",
       "      <td>0</td>\n",
       "      <td>0</td>\n",
       "      <td>0</td>\n",
       "      <td>...</td>\n",
       "      <td>0</td>\n",
       "      <td>0</td>\n",
       "      <td>0</td>\n",
       "      <td>0</td>\n",
       "      <td>0</td>\n",
       "      <td>1</td>\n",
       "      <td>0</td>\n",
       "      <td>0</td>\n",
       "      <td>0</td>\n",
       "      <td>Slight</td>\n",
       "    </tr>\n",
       "    <tr>\n",
       "      <th>6</th>\n",
       "      <td>0</td>\n",
       "      <td>0</td>\n",
       "      <td>0</td>\n",
       "      <td>0</td>\n",
       "      <td>0</td>\n",
       "      <td>0</td>\n",
       "      <td>0</td>\n",
       "      <td>0</td>\n",
       "      <td>0</td>\n",
       "      <td>0</td>\n",
       "      <td>...</td>\n",
       "      <td>0</td>\n",
       "      <td>0</td>\n",
       "      <td>1</td>\n",
       "      <td>0</td>\n",
       "      <td>0</td>\n",
       "      <td>1</td>\n",
       "      <td>0</td>\n",
       "      <td>0</td>\n",
       "      <td>0</td>\n",
       "      <td>Slight</td>\n",
       "    </tr>\n",
       "    <tr>\n",
       "      <th>8</th>\n",
       "      <td>0</td>\n",
       "      <td>0</td>\n",
       "      <td>0</td>\n",
       "      <td>0</td>\n",
       "      <td>0</td>\n",
       "      <td>0</td>\n",
       "      <td>0</td>\n",
       "      <td>0</td>\n",
       "      <td>0</td>\n",
       "      <td>0</td>\n",
       "      <td>...</td>\n",
       "      <td>0</td>\n",
       "      <td>0</td>\n",
       "      <td>1</td>\n",
       "      <td>0</td>\n",
       "      <td>0</td>\n",
       "      <td>1</td>\n",
       "      <td>0</td>\n",
       "      <td>0</td>\n",
       "      <td>0</td>\n",
       "      <td>Slight</td>\n",
       "    </tr>\n",
       "    <tr>\n",
       "      <th>9</th>\n",
       "      <td>0</td>\n",
       "      <td>0</td>\n",
       "      <td>0</td>\n",
       "      <td>0</td>\n",
       "      <td>0</td>\n",
       "      <td>0</td>\n",
       "      <td>0</td>\n",
       "      <td>0</td>\n",
       "      <td>0</td>\n",
       "      <td>0</td>\n",
       "      <td>...</td>\n",
       "      <td>0</td>\n",
       "      <td>0</td>\n",
       "      <td>1</td>\n",
       "      <td>0</td>\n",
       "      <td>0</td>\n",
       "      <td>0</td>\n",
       "      <td>0</td>\n",
       "      <td>0</td>\n",
       "      <td>1</td>\n",
       "      <td>Slight</td>\n",
       "    </tr>\n",
       "    <tr>\n",
       "      <th>10</th>\n",
       "      <td>0</td>\n",
       "      <td>0</td>\n",
       "      <td>0</td>\n",
       "      <td>0</td>\n",
       "      <td>0</td>\n",
       "      <td>0</td>\n",
       "      <td>0</td>\n",
       "      <td>0</td>\n",
       "      <td>0</td>\n",
       "      <td>0</td>\n",
       "      <td>...</td>\n",
       "      <td>0</td>\n",
       "      <td>0</td>\n",
       "      <td>1</td>\n",
       "      <td>0</td>\n",
       "      <td>0</td>\n",
       "      <td>1</td>\n",
       "      <td>0</td>\n",
       "      <td>0</td>\n",
       "      <td>0</td>\n",
       "      <td>Slight</td>\n",
       "    </tr>\n",
       "    <tr>\n",
       "      <th>...</th>\n",
       "      <td>...</td>\n",
       "      <td>...</td>\n",
       "      <td>...</td>\n",
       "      <td>...</td>\n",
       "      <td>...</td>\n",
       "      <td>...</td>\n",
       "      <td>...</td>\n",
       "      <td>...</td>\n",
       "      <td>...</td>\n",
       "      <td>...</td>\n",
       "      <td>...</td>\n",
       "      <td>...</td>\n",
       "      <td>...</td>\n",
       "      <td>...</td>\n",
       "      <td>...</td>\n",
       "      <td>...</td>\n",
       "      <td>...</td>\n",
       "      <td>...</td>\n",
       "      <td>...</td>\n",
       "      <td>...</td>\n",
       "      <td>...</td>\n",
       "    </tr>\n",
       "    <tr>\n",
       "      <th>2040128</th>\n",
       "      <td>0</td>\n",
       "      <td>0</td>\n",
       "      <td>0</td>\n",
       "      <td>0</td>\n",
       "      <td>0</td>\n",
       "      <td>0</td>\n",
       "      <td>0</td>\n",
       "      <td>0</td>\n",
       "      <td>0</td>\n",
       "      <td>0</td>\n",
       "      <td>...</td>\n",
       "      <td>0</td>\n",
       "      <td>0</td>\n",
       "      <td>1</td>\n",
       "      <td>0</td>\n",
       "      <td>0</td>\n",
       "      <td>0</td>\n",
       "      <td>0</td>\n",
       "      <td>0</td>\n",
       "      <td>1</td>\n",
       "      <td>Slight</td>\n",
       "    </tr>\n",
       "    <tr>\n",
       "      <th>2040130</th>\n",
       "      <td>0</td>\n",
       "      <td>0</td>\n",
       "      <td>0</td>\n",
       "      <td>0</td>\n",
       "      <td>0</td>\n",
       "      <td>0</td>\n",
       "      <td>0</td>\n",
       "      <td>0</td>\n",
       "      <td>0</td>\n",
       "      <td>0</td>\n",
       "      <td>...</td>\n",
       "      <td>0</td>\n",
       "      <td>0</td>\n",
       "      <td>1</td>\n",
       "      <td>0</td>\n",
       "      <td>0</td>\n",
       "      <td>0</td>\n",
       "      <td>0</td>\n",
       "      <td>0</td>\n",
       "      <td>1</td>\n",
       "      <td>Slight</td>\n",
       "    </tr>\n",
       "    <tr>\n",
       "      <th>2040138</th>\n",
       "      <td>0</td>\n",
       "      <td>0</td>\n",
       "      <td>0</td>\n",
       "      <td>0</td>\n",
       "      <td>0</td>\n",
       "      <td>0</td>\n",
       "      <td>0</td>\n",
       "      <td>0</td>\n",
       "      <td>0</td>\n",
       "      <td>0</td>\n",
       "      <td>...</td>\n",
       "      <td>0</td>\n",
       "      <td>0</td>\n",
       "      <td>1</td>\n",
       "      <td>0</td>\n",
       "      <td>0</td>\n",
       "      <td>0</td>\n",
       "      <td>0</td>\n",
       "      <td>0</td>\n",
       "      <td>1</td>\n",
       "      <td>Serious</td>\n",
       "    </tr>\n",
       "    <tr>\n",
       "      <th>2040140</th>\n",
       "      <td>0</td>\n",
       "      <td>0</td>\n",
       "      <td>0</td>\n",
       "      <td>0</td>\n",
       "      <td>0</td>\n",
       "      <td>1</td>\n",
       "      <td>0</td>\n",
       "      <td>0</td>\n",
       "      <td>0</td>\n",
       "      <td>0</td>\n",
       "      <td>...</td>\n",
       "      <td>0</td>\n",
       "      <td>0</td>\n",
       "      <td>1</td>\n",
       "      <td>0</td>\n",
       "      <td>0</td>\n",
       "      <td>0</td>\n",
       "      <td>0</td>\n",
       "      <td>0</td>\n",
       "      <td>1</td>\n",
       "      <td>Slight</td>\n",
       "    </tr>\n",
       "    <tr>\n",
       "      <th>2040142</th>\n",
       "      <td>0</td>\n",
       "      <td>0</td>\n",
       "      <td>0</td>\n",
       "      <td>0</td>\n",
       "      <td>0</td>\n",
       "      <td>0</td>\n",
       "      <td>0</td>\n",
       "      <td>0</td>\n",
       "      <td>0</td>\n",
       "      <td>0</td>\n",
       "      <td>...</td>\n",
       "      <td>0</td>\n",
       "      <td>0</td>\n",
       "      <td>1</td>\n",
       "      <td>0</td>\n",
       "      <td>0</td>\n",
       "      <td>0</td>\n",
       "      <td>0</td>\n",
       "      <td>0</td>\n",
       "      <td>1</td>\n",
       "      <td>Slight</td>\n",
       "    </tr>\n",
       "  </tbody>\n",
       "</table>\n",
       "<p>1129910 rows × 71 columns</p>\n",
       "</div>"
      ],
      "text/plain": [
       "         hour_1  hour_2  hour_3  hour_4  hour_5  hour_6  hour_7  hour_8  \\\n",
       "1             0       0       0       0       0       0       0       0   \n",
       "6             0       0       0       0       0       0       0       0   \n",
       "8             0       0       0       0       0       0       0       0   \n",
       "9             0       0       0       0       0       0       0       0   \n",
       "10            0       0       0       0       0       0       0       0   \n",
       "...         ...     ...     ...     ...     ...     ...     ...     ...   \n",
       "2040128       0       0       0       0       0       0       0       0   \n",
       "2040130       0       0       0       0       0       0       0       0   \n",
       "2040138       0       0       0       0       0       0       0       0   \n",
       "2040140       0       0       0       0       0       1       0       0   \n",
       "2040142       0       0       0       0       0       0       0       0   \n",
       "\n",
       "         hour_9  hour_10  ...  road_type_One way street  road_type_Roundabout  \\\n",
       "1             0        0  ...                         0                     0   \n",
       "6             0        0  ...                         0                     0   \n",
       "8             0        0  ...                         0                     0   \n",
       "9             0        0  ...                         0                     0   \n",
       "10            0        0  ...                         0                     0   \n",
       "...         ...      ...  ...                       ...                   ...   \n",
       "2040128       0        0  ...                         0                     0   \n",
       "2040130       0        0  ...                         0                     0   \n",
       "2040138       0        0  ...                         0                     0   \n",
       "2040140       0        0  ...                         0                     0   \n",
       "2040142       0        0  ...                         0                     0   \n",
       "\n",
       "         road_type_Single carriageway  road_type_Slip road  road_type_Unknown  \\\n",
       "1                                   0                    0                  0   \n",
       "6                                   1                    0                  0   \n",
       "8                                   1                    0                  0   \n",
       "9                                   1                    0                  0   \n",
       "10                                  1                    0                  0   \n",
       "...                               ...                  ...                ...   \n",
       "2040128                             1                    0                  0   \n",
       "2040130                             1                    0                  0   \n",
       "2040138                             1                    0                  0   \n",
       "2040140                             1                    0                  0   \n",
       "2040142                             1                    0                  0   \n",
       "\n",
       "         light_conditions_Darkness - lights lit  \\\n",
       "1                                             1   \n",
       "6                                             1   \n",
       "8                                             1   \n",
       "9                                             0   \n",
       "10                                            1   \n",
       "...                                         ...   \n",
       "2040128                                       0   \n",
       "2040130                                       0   \n",
       "2040138                                       0   \n",
       "2040140                                       0   \n",
       "2040142                                       0   \n",
       "\n",
       "         light_conditions_Darkness - lights unlit  \\\n",
       "1                                               0   \n",
       "6                                               0   \n",
       "8                                               0   \n",
       "9                                               0   \n",
       "10                                              0   \n",
       "...                                           ...   \n",
       "2040128                                         0   \n",
       "2040130                                         0   \n",
       "2040138                                         0   \n",
       "2040140                                         0   \n",
       "2040142                                         0   \n",
       "\n",
       "         light_conditions_Darkness - no lighting  light_conditions_Daylight  \\\n",
       "1                                              0                          0   \n",
       "6                                              0                          0   \n",
       "8                                              0                          0   \n",
       "9                                              0                          1   \n",
       "10                                             0                          0   \n",
       "...                                          ...                        ...   \n",
       "2040128                                        0                          1   \n",
       "2040130                                        0                          1   \n",
       "2040138                                        0                          1   \n",
       "2040140                                        0                          1   \n",
       "2040142                                        0                          1   \n",
       "\n",
       "         accident_severity  \n",
       "1                   Slight  \n",
       "6                   Slight  \n",
       "8                   Slight  \n",
       "9                   Slight  \n",
       "10                  Slight  \n",
       "...                    ...  \n",
       "2040128             Slight  \n",
       "2040130             Slight  \n",
       "2040138            Serious  \n",
       "2040140             Slight  \n",
       "2040142             Slight  \n",
       "\n",
       "[1129910 rows x 71 columns]"
      ]
     },
     "execution_count": 224,
     "metadata": {},
     "output_type": "execute_result"
    }
   ],
   "source": [
    "dummies.join(traffic_model[target_label])"
   ]
  },
  {
   "cell_type": "code",
   "execution_count": 228,
   "metadata": {
    "scrolled": true
   },
   "outputs": [
    {
     "data": {
      "text/plain": [
       "DecisionTreeClassifier()"
      ]
     },
     "execution_count": 228,
     "metadata": {},
     "output_type": "execute_result"
    }
   ],
   "source": [
    "from sklearn.tree import DecisionTreeClassifier\n",
    "tree_model = DecisionTreeClassifier()\n",
    "tree_model.fit(X_train,y_train)"
   ]
  },
  {
   "cell_type": "code",
   "execution_count": 229,
   "metadata": {},
   "outputs": [],
   "source": [
    "y_test_preds  = tree_model.predict(X_test)"
   ]
  },
  {
   "cell_type": "code",
   "execution_count": 231,
   "metadata": {},
   "outputs": [],
   "source": [
    "from sklearn.metrics import classification_report, confusion_matrix\n",
    "report = classification_report(y_test, y_test_preds)"
   ]
  },
  {
   "cell_type": "code",
   "execution_count": 232,
   "metadata": {},
   "outputs": [
    {
     "name": "stdout",
     "output_type": "stream",
     "text": [
      "Classification Report Random Forest - with Entropy and class_weight Parameter: \n",
      "               precision    recall  f1-score   support\n",
      "\n",
      "       Fatal       0.02      0.01      0.01      2591\n",
      "     Serious       0.14      0.06      0.08     41949\n",
      "      Slight       0.87      0.95      0.91    294433\n",
      "\n",
      "    accuracy                           0.83    338973\n",
      "   macro avg       0.34      0.34      0.33    338973\n",
      "weighted avg       0.77      0.83      0.80    338973\n",
      "\n"
     ]
    }
   ],
   "source": [
    "print('Classification Report Random Forest - with Entropy and class_weight Parameter: \\n', report)"
   ]
  },
  {
   "cell_type": "code",
   "execution_count": 235,
   "metadata": {},
   "outputs": [
    {
     "data": {
      "image/png": "[encoded data removed]",
      "text/plain": [
       "<Figure size 432x288 with 1 Axes>"
      ]
     },
     "metadata": {
      "needs_background": "light"
     },
     "output_type": "display_data"
    }
   ],
   "source": [
    "matrix = confusion_matrix(y_test, y_test_preds)\n",
    "class_names = traffic_model['accident_severity'].values\n",
    "dataframe = pd.DataFrame(matrix, index=['Fatal', 'Serious', 'Slight'], \n",
    "                         columns=['Fatal', 'Serious', 'Slight'])\n",
    "\n",
    "sns.heatmap(dataframe, annot=True, cbar=None, cmap='Blues')\n",
    "plt.title('Confusion Matrix')\n",
    "plt.tight_layout(), plt.xlabel('True Values'), plt.ylabel('Predicted Values')\n",
    "plt.show()"
   ]
  },
  {
   "cell_type": "code",
   "execution_count": 94,
   "metadata": {
    "scrolled": true
   },
   "outputs": [],
   "source": [
    "traffic_weather_severity = traffic_data[['weather_conditions','accident_severity']]\n",
    "weather_counts = {}\n",
    "weather_counts['condition'] = []\n",
    "weather_counts['total']     = []\n",
    "weather_counts['fatal']     = []\n",
    "weather_counts['serious']   = []\n",
    "weather_counts['slight']    = []\n",
    "for i,value in enumerate(traffic_weather_severity['weather_conditions'].unique()):\n",
    "    weather_condition_mask = traffic_weather_severity['weather_conditions']==value\n",
    "    severity_counts = traffic_weather_severity[weather_condition_mask].value_counts()\n",
    "    total_accidents = len(traffic_weather_severity[weather_condition_mask])\n",
    "    weather_counts['condition'].append(value)\n",
    "    weather_counts['total'].append(total_accidents)\n",
    "    weather_counts['fatal'].append(severity_counts[value,'Fatal']/total_accidents)\n",
    "    weather_counts['serious'].append(severity_counts[value,'Serious']/total_accidents)\n",
    "    weather_counts['slight'].append(severity_counts[value,'Slight']/total_accidents)\n",
    "    \n",
    "weather_counts = pd.DataFrame(weather_counts)"
   ]
  },
  {
   "cell_type": "code",
   "execution_count": 109,
   "metadata": {
    "scrolled": true
   },
   "outputs": [
    {
     "data": {
      "text/plain": [
       "<AxesSubplot:xlabel='condition'>"
      ]
     },
     "execution_count": 109,
     "metadata": {},
     "output_type": "execute_result"
    },
    {
     "data": {
      "image/png": "[encoded data removed]",
      "text/plain": [
       "<Figure size 432x288 with 1 Axes>"
      ]
     },
     "metadata": {
      "needs_background": "light"
     },
     "output_type": "display_data"
    },
    {
     "data": {
      "image/png": "[encoded data removed]",
      "text/plain": [
       "<Figure size 432x288 with 1 Axes>"
      ]
     },
     "metadata": {
      "needs_background": "light"
     },
     "output_type": "display_data"
    }
   ],
   "source": [
    "weather_counts.plot.bar(x = 'condition',y=['fatal'])\n",
    "weather_counts.plot.bar(x = 'condition',y=['serious'])"
   ]
  },
  {
   "cell_type": "code",
   "execution_count": 110,
   "metadata": {},
   "outputs": [
    {
     "data": {
      "text/html": [
       "<div>\n",
       "<style scoped>\n",
       "    .dataframe tbody tr th:only-of-type {\n",
       "        vertical-align: middle;\n",
       "    }\n",
       "\n",
       "    .dataframe tbody tr th {\n",
       "        vertical-align: top;\n",
       "    }\n",
       "\n",
       "    .dataframe thead th {\n",
       "        text-align: right;\n",
       "    }\n",
       "</style>\n",
       "<table border=\"1\" class=\"dataframe\">\n",
       "  <thead>\n",
       "    <tr style=\"text-align: right;\">\n",
       "      <th></th>\n",
       "      <th>condition</th>\n",
       "      <th>total</th>\n",
       "      <th>fatal</th>\n",
       "      <th>serious</th>\n",
       "      <th>slight</th>\n",
       "    </tr>\n",
       "  </thead>\n",
       "  <tbody>\n",
       "    <tr>\n",
       "      <th>0</th>\n",
       "      <td>Fine no high winds</td>\n",
       "      <td>921688</td>\n",
       "      <td>0.007878</td>\n",
       "      <td>0.127270</td>\n",
       "      <td>0.864852</td>\n",
       "    </tr>\n",
       "    <tr>\n",
       "      <th>1</th>\n",
       "      <td>Raining no high winds</td>\n",
       "      <td>126797</td>\n",
       "      <td>0.005394</td>\n",
       "      <td>0.108993</td>\n",
       "      <td>0.885612</td>\n",
       "    </tr>\n",
       "    <tr>\n",
       "      <th>2</th>\n",
       "      <td>Unknown</td>\n",
       "      <td>22863</td>\n",
       "      <td>0.004549</td>\n",
       "      <td>0.091589</td>\n",
       "      <td>0.903862</td>\n",
       "    </tr>\n",
       "    <tr>\n",
       "      <th>3</th>\n",
       "      <td>Snowing no high winds</td>\n",
       "      <td>5476</td>\n",
       "      <td>0.003470</td>\n",
       "      <td>0.086194</td>\n",
       "      <td>0.910336</td>\n",
       "    </tr>\n",
       "    <tr>\n",
       "      <th>4</th>\n",
       "      <td>Other</td>\n",
       "      <td>22326</td>\n",
       "      <td>0.004345</td>\n",
       "      <td>0.101138</td>\n",
       "      <td>0.894518</td>\n",
       "    </tr>\n",
       "    <tr>\n",
       "      <th>5</th>\n",
       "      <td>Fine + high winds</td>\n",
       "      <td>12595</td>\n",
       "      <td>0.011989</td>\n",
       "      <td>0.132116</td>\n",
       "      <td>0.855895</td>\n",
       "    </tr>\n",
       "    <tr>\n",
       "      <th>6</th>\n",
       "      <td>Raining + high winds</td>\n",
       "      <td>12583</td>\n",
       "      <td>0.008027</td>\n",
       "      <td>0.121036</td>\n",
       "      <td>0.870937</td>\n",
       "    </tr>\n",
       "    <tr>\n",
       "      <th>7</th>\n",
       "      <td>Fog or mist</td>\n",
       "      <td>4864</td>\n",
       "      <td>0.012747</td>\n",
       "      <td>0.126439</td>\n",
       "      <td>0.860814</td>\n",
       "    </tr>\n",
       "    <tr>\n",
       "      <th>8</th>\n",
       "      <td>Snowing + high winds</td>\n",
       "      <td>718</td>\n",
       "      <td>0.004178</td>\n",
       "      <td>0.089136</td>\n",
       "      <td>0.906685</td>\n",
       "    </tr>\n",
       "  </tbody>\n",
       "</table>\n",
       "</div>"
      ],
      "text/plain": [
       "               condition   total     fatal   serious    slight\n",
       "0     Fine no high winds  921688  0.007878  0.127270  0.864852\n",
       "1  Raining no high winds  126797  0.005394  0.108993  0.885612\n",
       "2                Unknown   22863  0.004549  0.091589  0.903862\n",
       "3  Snowing no high winds    5476  0.003470  0.086194  0.910336\n",
       "4                  Other   22326  0.004345  0.101138  0.894518\n",
       "5      Fine + high winds   12595  0.011989  0.132116  0.855895\n",
       "6   Raining + high winds   12583  0.008027  0.121036  0.870937\n",
       "7            Fog or mist    4864  0.012747  0.126439  0.860814\n",
       "8   Snowing + high winds     718  0.004178  0.089136  0.906685"
      ]
     },
     "execution_count": 110,
     "metadata": {},
     "output_type": "execute_result"
    }
   ],
   "source": [
    "weather_counts"
   ]
  },
  {
   "cell_type": "code",
   "execution_count": 28,
   "metadata": {},
   "outputs": [
    {
     "data": {
      "text/plain": [
       "accident_index                        2988\n",
       "vehicle_reference                     2988\n",
       "vehicle_type                          2988\n",
       "towing_and_articulation               2988\n",
       "vehicle_manoeuvre                     2988\n",
       "                                      ... \n",
       "bus_or_coach_passenger                2313\n",
       "pedestrian_road_maintenance_worker    2313\n",
       "casualty_type                         2313\n",
       "casualty_home_area_type               2313\n",
       "casualty_imd_decile                   2313\n",
       "Length: 70, dtype: int64"
      ]
     },
     "execution_count": 28,
     "metadata": {},
     "output_type": "execute_result"
    }
   ],
   "source": [
    "weather_labels = ['Fine no high winds',   #1\n",
    "                  'Raining no high winds',#2\n",
    "                  'Snowing no high winds',#3\n",
    "                  'Fine + high winds',    #4\n",
    "                  'Raining + high winds', #5\n",
    "                  'Snowing + high winds', #6\n",
    "                  'Fog or mist',          #7\n",
    "                  'Other'                 #8\n",
    "                  'Unknown']              #9\n",
    "traffic_data_fatal['weather_conditions'].value_counts().plot.bar()"
   ]
  },
  {
   "cell_type": "code",
   "execution_count": 75,
   "metadata": {},
   "outputs": [
    {
     "data": {
      "text/plain": [
       "106870"
      ]
     },
     "execution_count": 75,
     "metadata": {},
     "output_type": "execute_result"
    }
   ],
   "source": [
    "traffic_data_fatal['weather_conditions'].value_counts().plot.bar()"
   ]
  },
  {
   "cell_type": "code",
   "execution_count": 14,
   "metadata": {},
   "outputs": [
    {
     "data": {
      "text/plain": [
       "Index(['accident_index', '1st_road_class', '1st_road_number', '2nd_road_class',\n",
       "       '2nd_road_number', 'accident_severity', 'carriageway_hazards', 'date',\n",
       "       'day_of_week', 'did_police_officer_attend_scene_of_accident',\n",
       "       'junction_control', 'junction_detail', 'latitude', 'light_conditions',\n",
       "       'local_authority_(district)', 'local_authority_(highway)',\n",
       "       'location_easting_osgr', 'location_northing_osgr', 'longitude',\n",
       "       'lsoa_of_accident_location', 'number_of_casualties',\n",
       "       'number_of_vehicles', 'pedestrian_crossing-human_control',\n",
       "       'pedestrian_crossing-physical_facilities', 'police_force',\n",
       "       'road_surface_conditions', 'road_type', 'special_conditions_at_site',\n",
       "       'speed_limit', 'time', 'urban_or_rural_area', 'weather_conditions',\n",
       "       'year', 'inscotland', 'datetime', 'hour'],\n",
       "      dtype='object')"
      ]
     },
     "execution_count": 14,
     "metadata": {},
     "output_type": "execute_result"
    }
   ],
   "source": [
    "traffic_data.columns"
   ]
  },
  {
   "cell_type": "code",
   "execution_count": 25,
   "metadata": {},
   "outputs": [
    {
     "data": {
      "text/plain": [
       "<AxesSubplot:>"
      ]
     },
     "execution_count": 25,
     "metadata": {},
     "output_type": "execute_result"
    },
    {
     "data": {
      "image/png": "[encoded data removed]",
      "text/plain": [
       "<Figure size 432x288 with 1 Axes>"
      ]
     },
     "metadata": {
      "needs_background": "light"
     },
     "output_type": "display_data"
    }
   ],
   "source": [
    "traffic_data_fatal['speed_limit'].value_counts().plot.bar()"
   ]
  },
  {
   "cell_type": "code",
   "execution_count": 37,
   "metadata": {},
   "outputs": [
    {
     "data": {
      "text/plain": [
       "array(['Cumbria', 'Lancashire', 'Cheshire West and Chester',\n",
       "       'Cheshire East', 'Northumberland', 'County Durham',\n",
       "       'North Yorkshire', 'Staffordshire', 'Worcestershire', 'Shropshire',\n",
       "       'Warwickshire', 'Derbyshire', 'Nottinghamshire', 'Lincolnshire',\n",
       "       'Leicestershire', 'Northamptonshire', 'Cambridgeshire', 'Norfolk',\n",
       "       'Suffolk', 'Central Bedfordshire', 'Hertfordshire', 'Essex',\n",
       "       'Buckinghamshire', 'Oxfordshire', 'Hampshire', 'Surrey', 'Kent',\n",
       "       'West Sussex', 'East Sussex', 'Cornwall', 'Devon', 'Somerset',\n",
       "       'Gloucestershire', 'Wiltshire', 'Dorset', 'Isles of Scilly',\n",
       "       'Blackburn with Darwen'], dtype=object)"
      ]
     },
     "execution_count": 37,
     "metadata": {},
     "output_type": "execute_result"
    }
   ],
   "source": [
    "traffic_data[traffic_data['local_authority_(district)']!=traffic_data['local_authority_(highway)']]['local_authority_(highway)'].unique()"
   ]
  },
  {
   "cell_type": "code",
   "execution_count": 66,
   "metadata": {},
   "outputs": [
    {
     "data": {
      "text/html": [
       "<div>\n",
       "<style scoped>\n",
       "    .dataframe tbody tr th:only-of-type {\n",
       "        vertical-align: middle;\n",
       "    }\n",
       "\n",
       "    .dataframe tbody tr th {\n",
       "        vertical-align: top;\n",
       "    }\n",
       "\n",
       "    .dataframe thead th {\n",
       "        text-align: right;\n",
       "    }\n",
       "</style>\n",
       "<table border=\"1\" class=\"dataframe\">\n",
       "  <thead>\n",
       "    <tr style=\"text-align: right;\">\n",
       "      <th></th>\n",
       "      <th>accident_index</th>\n",
       "      <th>1st_road_class</th>\n",
       "      <th>1st_road_number</th>\n",
       "      <th>2nd_road_class</th>\n",
       "      <th>2nd_road_number</th>\n",
       "      <th>accident_severity</th>\n",
       "      <th>carriageway_hazards</th>\n",
       "      <th>date</th>\n",
       "      <th>day_of_week</th>\n",
       "      <th>did_police_officer_attend_scene_of_accident</th>\n",
       "      <th>...</th>\n",
       "      <th>road_type</th>\n",
       "      <th>special_conditions_at_site</th>\n",
       "      <th>speed_limit</th>\n",
       "      <th>time</th>\n",
       "      <th>urban_or_rural_area</th>\n",
       "      <th>weather_conditions</th>\n",
       "      <th>year</th>\n",
       "      <th>inscotland</th>\n",
       "      <th>datetime</th>\n",
       "      <th>hour</th>\n",
       "    </tr>\n",
       "  </thead>\n",
       "  <tbody>\n",
       "    <tr>\n",
       "      <th>734526</th>\n",
       "      <td>2008950010996</td>\n",
       "      <td>A</td>\n",
       "      <td>701.0</td>\n",
       "      <td>C</td>\n",
       "      <td>0.0</td>\n",
       "      <td>Slight</td>\n",
       "      <td>None</td>\n",
       "      <td>2008-12-15</td>\n",
       "      <td>Monday</td>\n",
       "      <td>2.0</td>\n",
       "      <td>...</td>\n",
       "      <td>Single carriageway</td>\n",
       "      <td>None</td>\n",
       "      <td>30.0</td>\n",
       "      <td>11:20</td>\n",
       "      <td>Rural</td>\n",
       "      <td>Raining no high winds</td>\n",
       "      <td>2008</td>\n",
       "      <td>No</td>\n",
       "      <td>2008-12-15 11:20:00</td>\n",
       "      <td>11</td>\n",
       "    </tr>\n",
       "  </tbody>\n",
       "</table>\n",
       "<p>1 rows × 36 columns</p>\n",
       "</div>"
      ],
      "text/plain": [
       "       accident_index 1st_road_class  1st_road_number 2nd_road_class  \\\n",
       "734526  2008950010996              A            701.0              C   \n",
       "\n",
       "        2nd_road_number accident_severity carriageway_hazards        date  \\\n",
       "734526              0.0            Slight                None  2008-12-15   \n",
       "\n",
       "       day_of_week  did_police_officer_attend_scene_of_accident  ...  \\\n",
       "734526      Monday                                          2.0  ...   \n",
       "\n",
       "                 road_type special_conditions_at_site  speed_limit   time  \\\n",
       "734526  Single carriageway                       None         30.0  11:20   \n",
       "\n",
       "       urban_or_rural_area     weather_conditions  year  inscotland  \\\n",
       "734526               Rural  Raining no high winds  2008          No   \n",
       "\n",
       "                  datetime hour  \n",
       "734526 2008-12-15 11:20:00   11  \n",
       "\n",
       "[1 rows x 36 columns]"
      ]
     },
     "execution_count": 66,
     "metadata": {},
     "output_type": "execute_result"
    }
   ],
   "source": []
  },
  {
   "cell_type": "code",
   "execution_count": 6,
   "metadata": {},
   "outputs": [
    {
     "data": {
      "text/plain": [
       "array(['B', 'C', 'A', 'Unclassified', 'Motorway', 'A(M)'], dtype=object)"
      ]
     },
     "execution_count": 6,
     "metadata": {},
     "output_type": "execute_result"
    }
   ],
   "source": [
    "traffic_data['1st_road_class'].unique()"
   ]
  },
  {
   "cell_type": "code",
   "execution_count": 91,
   "metadata": {},
   "outputs": [
    {
     "data": {
      "text/plain": [
       "<AxesSubplot:>"
      ]
     },
     "execution_count": 91,
     "metadata": {},
     "output_type": "execute_result"
    },
    {
     "data": {
      "image/png": "[encoded data removed]",
      "text/plain": [
       "<Figure size 432x288 with 1 Axes>"
      ]
     },
     "metadata": {
      "needs_background": "light"
     },
     "output_type": "display_data"
    }
   ],
   "source": [
    "traffic_data['local_authority_(highway)'].value_counts().plot.bar()"
   ]
  },
  {
   "cell_type": "markdown",
   "metadata": {},
   "source": [
    "To do: get population data for normalisation, normalise road type"
   ]
  },
  {
   "cell_type": "code",
   "execution_count": null,
   "metadata": {},
   "outputs": [],
   "source": [
    "pop_data = pd.read_excel(io='table2.xls',\n",
    "                         sheet_name='Persons',\n",
    "                         header = 6,\n",
    "                         usecols)"
   ]
  },
  {
   "cell_type": "code",
   "execution_count": 81,
   "metadata": {},
   "outputs": [],
   "source": [
    " gdf = gpd.read_file('Local_Authority_Districts__December_2019__Boundaries_UK_BFE-shp/Local_Authority_Districts__December_2019__Boundaries_UK_BFE.shp')"
   ]
  },
  {
   "cell_type": "code",
   "execution_count": 11,
   "metadata": {},
   "outputs": [
    {
     "data": {
      "text/plain": [
       "1st_road_class\n",
       "A                 95147\n",
       "Unclassified       9032\n",
       "B                  5970\n",
       "Motorway           5969\n",
       "C                  2868\n",
       "A(M)                575\n",
       "dtype: int64"
      ]
     },
     "execution_count": 11,
     "metadata": {},
     "output_type": "execute_result"
    }
   ],
   "source": [
    "traffic_data[traffic_data.road_type=='Dual carriageway'][['1st_road_class']].value_counts()"
   ]
  },
  {
   "cell_type": "code",
   "execution_count": 13,
   "metadata": {
    "scrolled": false
   },
   "outputs": [
    {
     "data": {
      "text/plain": [
       "accident_index                                 0\n",
       "1st_road_class                                 0\n",
       "1st_road_number                                0\n",
       "2nd_road_class                                 0\n",
       "2nd_road_number                                0\n",
       "accident_severity                              0\n",
       "carriageway_hazards                            0\n",
       "date                                           0\n",
       "day_of_week                                    0\n",
       "did_police_officer_attend_scene_of_accident    0\n",
       "junction_control                               0\n",
       "junction_detail                                0\n",
       "latitude                                       0\n",
       "light_conditions                               0\n",
       "local_authority_(district)                     0\n",
       "local_authority_(highway)                      0\n",
       "location_easting_osgr                          0\n",
       "location_northing_osgr                         0\n",
       "longitude                                      0\n",
       "lsoa_of_accident_location                      0\n",
       "number_of_casualties                           0\n",
       "number_of_vehicles                             0\n",
       "pedestrian_crossing-human_control              0\n",
       "pedestrian_crossing-physical_facilities        0\n",
       "police_force                                   0\n",
       "road_surface_conditions                        0\n",
       "road_type                                      0\n",
       "special_conditions_at_site                     0\n",
       "speed_limit                                    0\n",
       "time                                           0\n",
       "urban_or_rural_area                            0\n",
       "weather_conditions                             0\n",
       "year                                           0\n",
       "inscotland                                     0\n",
       "datetime                                       0\n",
       "hour                                           0\n",
       "dtype: int64"
      ]
     },
     "execution_count": 13,
     "metadata": {},
     "output_type": "execute_result"
    }
   ],
   "source": [
    "traffic_data.isna().sum()"
   ]
  },
  {
   "cell_type": "code",
   "execution_count": 31,
   "metadata": {},
   "outputs": [
    {
     "data": {
      "text/plain": [
       "<AxesSubplot:>"
      ]
     },
     "execution_count": 31,
     "metadata": {},
     "output_type": "execute_result"
    },
    {
     "data": {
      "image/png": "[encoded data removed]",
      "text/plain": [
       "<Figure size 432x288 with 1 Axes>"
      ]
     },
     "metadata": {
      "needs_background": "light"
     },
     "output_type": "display_data"
    }
   ],
   "source": [
    "traffic_data['day_of_week'].value_counts().plot(kind='bar')\n"
   ]
  },
  {
   "cell_type": "code",
   "execution_count": 32,
   "metadata": {},
   "outputs": [
    {
     "data": {
      "text/plain": [
       "array(['C', 'Unclassified', 'B', 'A', 'Motorway', 'A(M)'], dtype=object)"
      ]
     },
     "execution_count": 32,
     "metadata": {},
     "output_type": "execute_result"
    }
   ],
   "source": [
    "traffic_data['2nd_road_class'].unique()"
   ]
  },
  {
   "cell_type": "code",
   "execution_count": null,
   "metadata": {},
   "outputs": [],
   "source": []
  }
 ],
 "metadata": {
  "kernelspec": {
   "display_name": "data-analysis",
   "language": "python",
   "name": "data-analysis"
  },
  "language_info": {
   "codemirror_mode": {
    "name": "ipython",
    "version": 3
   },
   "file_extension": ".py",
   "mimetype": "text/x-python",
   "name": "python",
   "nbconvert_exporter": "python",
   "pygments_lexer": "ipython3",
   "version": "3.7.8"
  }
 },
 "nbformat": 4,
 "nbformat_minor": 4
}
